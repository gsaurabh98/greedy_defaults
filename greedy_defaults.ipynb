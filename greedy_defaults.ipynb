{
 "cells": [
  {
   "cell_type": "code",
   "execution_count": 11,
   "metadata": {},
   "outputs": [],
   "source": [
    "import numpy as np\n",
    "import pandas as pd"
   ]
  },
  {
   "cell_type": "code",
   "execution_count": 12,
   "metadata": {},
   "outputs": [],
   "source": [
    "meta_data = pd.read_csv(r'data_toy.csv')\n",
    "# meta_data = pd.read_csv(r'data_svm.csv')"
   ]
  },
  {
   "cell_type": "code",
   "execution_count": 13,
   "metadata": {},
   "outputs": [],
   "source": [
    "meta_data.set_index('configuration',inplace=True)"
   ]
  },
  {
   "cell_type": "code",
   "execution_count": 14,
   "metadata": {},
   "outputs": [],
   "source": [
    "# meta_data.set_index(['kernel_rbf', 'kernel_poly', 'kernel_linear', 'c', 'gamma', 'degree'], inplace=True)"
   ]
  },
  {
   "cell_type": "code",
   "execution_count": 15,
   "metadata": {},
   "outputs": [],
   "source": [
    "aggregate = np.sum"
   ]
  },
  {
   "cell_type": "code",
   "execution_count": 17,
   "metadata": {},
   "outputs": [
    {
     "data": {
      "text/plain": [
       "'theta2'"
      ]
     },
     "execution_count": 17,
     "metadata": {},
     "output_type": "execute_result"
    }
   ],
   "source": [
    "max_row_index = list()\n",
    "\n",
    "max_row = meta_data.loc[\n",
    "    meta_data.apply(aggregate, axis=1) == meta_data.apply(aggregate,\n",
    "                                                          axis=1).max()]\n",
    "max_row_index.append(max_row.index[0])\n",
    "\n",
    "meta_data_copy = meta_data.copy(deep=True)\n",
    "meta_data_copy.drop(max_row_index, inplace=True)\n",
    "\n",
    "while meta_data_copy.empty is False:\n",
    "    # compare each row of meta_data_copy with max_row to get the max values\n",
    "    temp_max_df = np.maximum(meta_data_copy, max_row)\n",
    "    # calculating sum of each row\n",
    "    max_series = temp_max_df.apply(aggregate, axis=1)\n",
    "    # getting the index of max value and appending in max_row_index list\n",
    "    max_row_index.append(max_series.idxmax())\n",
    "    max_row = np.maximum(temp_max_df.loc[max_series.idxmax()], max_row)\n",
    "    meta_data_copy.drop([max_row_index[-1]], inplace=True)\n",
    "\n",
    "max_row_index.pop()"
   ]
  },
  {
   "cell_type": "code",
   "execution_count": 18,
   "metadata": {},
   "outputs": [
    {
     "data": {
      "text/plain": [
       "['theta0', 'theta3', 'theta1']"
      ]
     },
     "execution_count": 18,
     "metadata": {},
     "output_type": "execute_result"
    }
   ],
   "source": [
    "max_row_index"
   ]
  },
  {
   "cell_type": "code",
   "execution_count": null,
   "metadata": {},
   "outputs": [],
   "source": []
  }
 ],
 "metadata": {
  "kernelspec": {
   "display_name": "Python 3",
   "language": "python",
   "name": "python3"
  },
  "language_info": {
   "codemirror_mode": {
    "name": "ipython",
    "version": 3
   },
   "file_extension": ".py",
   "mimetype": "text/x-python",
   "name": "python",
   "nbconvert_exporter": "python",
   "pygments_lexer": "ipython3",
   "version": "3.7.3"
  }
 },
 "nbformat": 4,
 "nbformat_minor": 4
}
